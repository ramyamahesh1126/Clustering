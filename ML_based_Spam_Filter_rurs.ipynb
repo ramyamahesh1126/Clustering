{
  "nbformat": 4,
  "nbformat_minor": 0,
  "metadata": {
    "kernelspec": {
      "display_name": "Python 3",
      "language": "python",
      "name": "python3"
    },
    "language_info": {
      "codemirror_mode": {
        "name": "ipython",
        "version": 3
      },
      "file_extension": ".py",
      "mimetype": "text/x-python",
      "name": "python",
      "nbconvert_exporter": "python",
      "pygments_lexer": "ipython3",
      "version": "3.8.3"
    },
    "colab": {
      "name": "ML_based_Spam_Filter_rurs.ipynb",
      "provenance": [],
      "include_colab_link": true
    }
  },
  "cells": [
    {
      "cell_type": "markdown",
      "metadata": {
        "id": "view-in-github",
        "colab_type": "text"
      },
      "source": [
        "<a href=\"https://colab.research.google.com/github/ramyamahesh1126/Clustering/blob/spam_filter/ML_based_Spam_Filter_rurs.ipynb\" target=\"_parent\"><img src=\"https://colab.research.google.com/assets/colab-badge.svg\" alt=\"Open In Colab\"/></a>"
      ]
    },
    {
      "cell_type": "code",
      "metadata": {
        "id": "XViJr6CBPw1B"
      },
      "source": [
        "#Assignment: ML based Spam filter\n",
        "\n",
        "import pandas as pd\n",
        "import string\n",
        "import spacy\n",
        "import nltk\n",
        "\n",
        "from nltk.corpus import stopwords\n",
        "from sklearn.feature_extraction.text import TfidfVectorizer\n",
        "from sklearn.feature_extraction.text import CountVectorizer\n",
        "from sklearn.metrics.pairwise import cosine_similarity"
      ],
      "execution_count": 1,
      "outputs": []
    },
    {
      "cell_type": "code",
      "metadata": {
        "colab": {
          "base_uri": "https://localhost:8080/"
        },
        "id": "el6ERI6CPw1E",
        "outputId": "1f753c8d-9b0e-40ca-8486-94459377e80a"
      },
      "source": [
        "nltk.download('stopwords')\n",
        "nlp = spacy.load('en_core_web_sm')"
      ],
      "execution_count": 2,
      "outputs": [
        {
          "output_type": "stream",
          "name": "stdout",
          "text": [
            "[nltk_data] Downloading package stopwords to /root/nltk_data...\n",
            "[nltk_data]   Unzipping corpora/stopwords.zip.\n"
          ]
        }
      ]
    },
    {
      "cell_type": "code",
      "metadata": {
        "colab": {
          "base_uri": "https://localhost:8080/"
        },
        "id": "UgPKeFslPw1F",
        "outputId": "dda3ae19-ed8b-4d30-cdd1-f6d85acb6bd4"
      },
      "source": [
        "!python -m spacy validate"
      ],
      "execution_count": 3,
      "outputs": [
        {
          "output_type": "stream",
          "name": "stdout",
          "text": [
            "\r⠙ Loading compatibility table...\r\u001b[2K\u001b[38;5;2m✔ Loaded compatibility table\u001b[0m\n",
            "\u001b[1m\n",
            "====================== Installed models (spaCy v2.2.4) ======================\u001b[0m\n",
            "\u001b[38;5;4mℹ spaCy installation: /usr/local/lib/python3.7/dist-packages/spacy\u001b[0m\n",
            "\n",
            "TYPE      NAME             MODEL            VERSION                            \n",
            "package   en-core-web-sm   en_core_web_sm   \u001b[38;5;2m2.2.5\u001b[0m   \u001b[38;5;2m✔\u001b[0m\n",
            "link      en               en_core_web_sm   \u001b[38;5;2m2.2.5\u001b[0m   \u001b[38;5;2m✔\u001b[0m\n",
            "\n"
          ]
        }
      ]
    },
    {
      "cell_type": "code",
      "metadata": {
        "id": "rQSB02JcPw1G"
      },
      "source": [
        "doc1 = \"Free-Couponsfornextmovie.The above links will take you straight to our partner's site.For more information or to see other offers available,you can also visit the groupon on the Working Advantage website.\"\n",
        "doc2 = \"Free-Couponsfornextmovie.The above links will take you straight to our partner's site.For more information or to see other offers available,you can also visit the groupon on the Working Advantage website.\"\n",
        "doc3 = \"Our records indicate your Pension is under performing to see higher growth and up to 25% cash release reply PENSION for a free review. To opt out reply STOP\"\n",
        "doc4 = \"Enter to win $25,000 and get a Free Hotel Night! Just click here for a $1 trial membership in NetMarket, the Internet'spremier discount shopping site:Fast Company EZVenture gives you FREE business articles,PLUS, you could win YOUR CHOICE of a BMW Z3 convertible, $100,000, shares of Microsoft stock, or a home office computer. Go there and get your chances to win now.A crazy-funny-cool trivia book with a $10,000 prize? PLUS chocolate, nail polish, cats, barnyard animals, and more?\"\n",
        "doc5 = \"Dear recipient,Avangar Technologies announces the beginning of a new unprecendented global employment campaign. Due to company's exploding growth Avangar is expanding business to the European region.During last employment campaign over 1500 people worldwide took part in Avangar's business and more than half of them are currently employed by the company. And now we are offering you one more opportunity to earn extra money working with Avangar Technologies. We are looking for honest, responsible, hard-working people that can dedicate 2-4 hours of their time per day and earn extra Â£300-500 weekly. All offered positions are currently part- time and give you a chance to work mainly from home.\"\n",
        "doc6 = \"I know that's an incredible statement, but bear with me while I explain. You have already deleted mail from dozens of 'Get Rich Quick' schemes, chain letter offers, and LOTS of other absurd scams that promise to make you rich overnight with no investment and no work.My offer isn't one of those. What I'm offering is a straightforward computer-based service that you can run full-or part-time like a 'regular' business. This service runs auto-matically while you sleep, vacation, or work a regular job. It provides a valuable new service for businesses in your area.I'm offering a high-tech, low-maintenance, work-from-anywhere business that can bring in a nice comfortable additional income for your family. I did it for eight years. Since I started inviting others to join me, I've helped over 4000 do the same.\"\n",
        "spam = \"Free Click here visit open attachment call this number money Out extra offer available Pension Opportunity Chance Investment Pension\"\n",
        "\n",
        "docs = [doc1, doc2, doc3, doc4, doc5, doc6, spam]"
      ],
      "execution_count": 4,
      "outputs": []
    },
    {
      "cell_type": "markdown",
      "metadata": {
        "id": "XNoiNd3RPw1H"
      },
      "source": [
        "Calculation of TF-IDF and Cosine Similarity using TfidfVectorizer"
      ]
    },
    {
      "cell_type": "code",
      "metadata": {
        "colab": {
          "base_uri": "https://localhost:8080/"
        },
        "id": "A2goZffrPw1J",
        "outputId": "cd0ef228-ac54-4622-dc26-59e9777ad0f0"
      },
      "source": [
        "tfidf_vectorizer = TfidfVectorizer()\n",
        "tfidf_matrix = tfidf_vectorizer.fit_transform(docs)\n",
        "print('TF-IDF Matrix: ',tfidf_matrix.shape)"
      ],
      "execution_count": 5,
      "outputs": [
        {
          "output_type": "stream",
          "name": "stdout",
          "text": [
            "TF-IDF Matrix:  (7, 242)\n"
          ]
        }
      ]
    },
    {
      "cell_type": "code",
      "metadata": {
        "colab": {
          "base_uri": "https://localhost:8080/"
        },
        "id": "7Ftx6iraPw1K",
        "outputId": "612410b7-ef20-4684-c935-76acce1bb9e7"
      },
      "source": [
        "print('Cosine Similarity: ',cosine_similarity(tfidf_matrix[0:1], tfidf_matrix))"
      ],
      "execution_count": 6,
      "outputs": [
        {
          "output_type": "stream",
          "name": "stdout",
          "text": [
            "Cosine Similarity:  [[1.         1.         0.13152669 0.1239682  0.15109782 0.13386666\n",
            "  0.07637522]]\n"
          ]
        }
      ]
    },
    {
      "cell_type": "markdown",
      "metadata": {
        "id": "wUTgWcapPw1L"
      },
      "source": [
        "Calculation of Cosine Similarity using sklearn"
      ]
    },
    {
      "cell_type": "code",
      "metadata": {
        "colab": {
          "base_uri": "https://localhost:8080/"
        },
        "id": "kMrm4EXUPw1M",
        "outputId": "4f368c30-3630-470e-b089-3c4f705835cc"
      },
      "source": [
        "count_vectorizer = CountVectorizer(stop_words='english')\n",
        "count_vectorizer = TfidfVectorizer()\n",
        "sparse_matrix = count_vectorizer.fit_transform(docs)\n",
        "\n",
        "doc_term_matrix = sparse_matrix.todense()\n",
        "df = pd.DataFrame(doc_term_matrix, \n",
        "                  columns=count_vectorizer.get_feature_names(), \n",
        "                  index=['doc1','doc2','doc3','doc4','doc5','doc6','spam'])\n",
        "print(df)\n",
        "\n",
        "print('Cosine Similarity: ',cosine_similarity(df, df))"
      ],
      "execution_count": 7,
      "outputs": [
        {
          "output_type": "stream",
          "name": "stdout",
          "text": [
            "           000        10       100  ...       you      your        z3\n",
            "doc1  0.000000  0.000000  0.000000  ...  0.245481  0.000000  0.000000\n",
            "doc2  0.000000  0.000000  0.000000  ...  0.245481  0.000000  0.000000\n",
            "doc3  0.000000  0.000000  0.000000  ...  0.000000  0.142580  0.000000\n",
            "doc4  0.326272  0.108757  0.108757  ...  0.117374  0.154333  0.108757\n",
            "doc5  0.000000  0.000000  0.000000  ...  0.090048  0.000000  0.000000\n",
            "doc6  0.000000  0.000000  0.000000  ...  0.173842  0.114291  0.000000\n",
            "spam  0.000000  0.000000  0.000000  ...  0.000000  0.000000  0.000000\n",
            "\n",
            "[7 rows x 242 columns]\n",
            "Cosine Similarity:  [[1.         1.         0.13152669 0.1239682  0.15109782 0.13386666\n",
            "  0.07637522]\n",
            " [1.         1.         0.13152669 0.1239682  0.15109782 0.13386666\n",
            "  0.07637522]\n",
            " [0.13152669 0.13152669 1.         0.10919137 0.09462712 0.06959393\n",
            "  0.19422224]\n",
            " [0.1239682  0.1239682  0.10919137 1.         0.15582874 0.1520446\n",
            "  0.05515352]\n",
            " [0.15109782 0.15109782 0.09462712 0.15582874 1.         0.20794772\n",
            "  0.07435901]\n",
            " [0.13386666 0.13386666 0.06959393 0.1520446  0.20794772 1.\n",
            "  0.0430661 ]\n",
            " [0.07637522 0.07637522 0.19422224 0.05515352 0.07435901 0.0430661\n",
            "  1.        ]]\n"
          ]
        }
      ]
    },
    {
      "cell_type": "code",
      "metadata": {
        "id": "ucjGA5fPPw1M"
      },
      "source": [
        ""
      ],
      "execution_count": null,
      "outputs": []
    }
  ]
}
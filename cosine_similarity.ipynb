{
  "nbformat": 4,
  "nbformat_minor": 0,
  "metadata": {
    "kernelspec": {
      "display_name": "Python 3",
      "language": "python",
      "name": "python3"
    },
    "language_info": {
      "codemirror_mode": {
        "name": "ipython",
        "version": 3
      },
      "file_extension": ".py",
      "mimetype": "text/x-python",
      "name": "python",
      "nbconvert_exporter": "python",
      "pygments_lexer": "ipython3",
      "version": "3.8.3"
    },
    "colab": {
      "name": "cosine_similarity.ipynb",
      "provenance": [],
      "include_colab_link": true
    }
  },
  "cells": [
    {
      "cell_type": "markdown",
      "metadata": {
        "id": "view-in-github",
        "colab_type": "text"
      },
      "source": [
        "<a href=\"https://colab.research.google.com/github/ramyamahesh1126/Clustering/blob/spam_filter/cosine_similarity.ipynb\" target=\"_parent\"><img src=\"https://colab.research.google.com/assets/colab-badge.svg\" alt=\"Open In Colab\"/></a>"
      ]
    },
    {
      "cell_type": "code",
      "metadata": {
        "colab": {
          "base_uri": "https://localhost:8080/"
        },
        "id": "ewrARkUzRswR",
        "outputId": "588b5d34-a8af-4af4-af7c-68cf4df9d73f"
      },
      "source": [
        "!pip install PyPDF2"
      ],
      "execution_count": 3,
      "outputs": [
        {
          "output_type": "stream",
          "name": "stdout",
          "text": [
            "Collecting PyPDF2\n",
            "  Downloading PyPDF2-1.26.0.tar.gz (77 kB)\n",
            "\u001b[?25l\r\u001b[K     |████▎                           | 10 kB 27.8 MB/s eta 0:00:01\r\u001b[K     |████████▌                       | 20 kB 34.7 MB/s eta 0:00:01\r\u001b[K     |████████████▊                   | 30 kB 25.9 MB/s eta 0:00:01\r\u001b[K     |█████████████████               | 40 kB 22.7 MB/s eta 0:00:01\r\u001b[K     |█████████████████████▏          | 51 kB 17.4 MB/s eta 0:00:01\r\u001b[K     |█████████████████████████▍      | 61 kB 13.6 MB/s eta 0:00:01\r\u001b[K     |█████████████████████████████▋  | 71 kB 14.6 MB/s eta 0:00:01\r\u001b[K     |████████████████████████████████| 77 kB 4.8 MB/s \n",
            "\u001b[?25hBuilding wheels for collected packages: PyPDF2\n",
            "  Building wheel for PyPDF2 (setup.py) ... \u001b[?25l\u001b[?25hdone\n",
            "  Created wheel for PyPDF2: filename=PyPDF2-1.26.0-py3-none-any.whl size=61101 sha256=9eecbae5ca73a24e1ea60946af372f0077b524660616510280eb1dd36f62c85e\n",
            "  Stored in directory: /root/.cache/pip/wheels/80/1a/24/648467ade3a77ed20f35cfd2badd32134e96dd25ca811e64b3\n",
            "Successfully built PyPDF2\n",
            "Installing collected packages: PyPDF2\n",
            "Successfully installed PyPDF2-1.26.0\n"
          ]
        }
      ]
    },
    {
      "cell_type": "code",
      "metadata": {
        "colab": {
          "base_uri": "https://localhost:8080/"
        },
        "id": "HjpCGdy9RJmo",
        "outputId": "e16a3ac1-2bdb-4c3b-f655-157c77e5afe8"
      },
      "source": [
        "import textwrap\n",
        "import PyPDF2\n",
        "from scipy import spatial\n",
        "\n",
        "list=['Free','Click here','visit','open attachment','call this number','money','Out','extra','offer','available','Pension','Opportunity','Chance','Investment','Pension']\n",
        "\n",
        "documentNames=['Document1.pdf','Document2.pdf','Document3.pdf','Document4.pdf','Document5.pdf','Document6.pdf']\n",
        "list"
      ],
      "execution_count": 4,
      "outputs": [
        {
          "output_type": "execute_result",
          "data": {
            "text/plain": [
              "['Free',\n",
              " 'Click here',\n",
              " 'visit',\n",
              " 'open attachment',\n",
              " 'call this number',\n",
              " 'money',\n",
              " 'Out',\n",
              " 'extra',\n",
              " 'offer',\n",
              " 'available',\n",
              " 'Pension',\n",
              " 'Opportunity',\n",
              " 'Chance',\n",
              " 'Investment',\n",
              " 'Pension']"
            ]
          },
          "metadata": {},
          "execution_count": 4
        }
      ]
    },
    {
      "cell_type": "code",
      "metadata": {
        "id": "C3I8EzHERJmr"
      },
      "source": [
        "docSpamCount=[]\n",
        "for doc in documentNames:\n",
        "\n",
        "    pdfFileObj = open(doc, 'rb')\n",
        "    pdfReader = PyPDF2.PdfFileReader(pdfFileObj)\n",
        "    pageObj = pdfReader.getPage(0)\n",
        "    input = textwrap.fill(pageObj.extractText()).lower()\n",
        "    i = 1\n",
        "    spam_in_doc=[]\n",
        "    for each in list:\n",
        "        spam_in_doc.append(input.count(each.lower()))\n",
        "        i = i + 1\n",
        "    docSpamCount.append(spam_in_doc)\n",
        "    pdfFileObj.close()"
      ],
      "execution_count": 6,
      "outputs": []
    },
    {
      "cell_type": "code",
      "metadata": {
        "colab": {
          "base_uri": "https://localhost:8080/"
        },
        "id": "d1jRUquGRJmr",
        "outputId": "76077845-297a-46e1-e572-4cdf805716e6"
      },
      "source": [
        "spam=[1]*15\n",
        "#d-spam\n",
        "print('spam: ',spam)\n",
        "\n",
        "for i in range(0,len(docSpamCount)):\n",
        "    result = 1 - spatial.distance.cosine(docSpamCount[i], spam)\n",
        "    print('\\nCosine similarity of ',docSpamCount[i],': ',result)\n",
        "    type=\"spam\" if result*100 >=30 else 'real'\n",
        "    print(\"Document\",i+1,': ',type)"
      ],
      "execution_count": 7,
      "outputs": [
        {
          "output_type": "stream",
          "name": "stdout",
          "text": [
            "spam:  [1, 1, 1, 1, 1, 1, 1, 1, 1, 1, 1, 1, 1, 1, 1]\n",
            "\n",
            "Cosine similarity of  [1, 0, 1, 0, 0, 0, 0, 0, 1, 1, 0, 0, 0, 0, 0] :  0.5163977794943223\n",
            "Document 1 :  spam\n",
            "\n",
            "Cosine similarity of  [1, 0, 1, 0, 0, 0, 0, 0, 1, 1, 0, 0, 0, 0, 0] :  0.5163977794943223\n",
            "Document 2 :  spam\n",
            "\n",
            "Cosine similarity of  [1, 0, 0, 0, 0, 0, 1, 0, 0, 0, 2, 0, 0, 0, 2] :  0.4898979485566357\n",
            "Document 3 :  spam\n",
            "\n",
            "Cosine similarity of  [2, 1, 0, 0, 0, 0, 0, 0, 0, 0, 0, 0, 1, 0, 0] :  0.42163702135578385\n",
            "Document 4 :  spam\n",
            "\n",
            "Cosine similarity of  [0, 0, 0, 0, 0, 1, 0, 2, 2, 0, 0, 1, 1, 0, 0] :  0.5449492609130662\n",
            "Document 5 :  spam\n",
            "\n",
            "Cosine similarity of  [0, 0, 0, 0, 0, 0, 0, 0, 4, 0, 0, 0, 0, 1, 0] :  0.3131121455425747\n",
            "Document 6 :  spam\n"
          ]
        }
      ]
    },
    {
      "cell_type": "code",
      "metadata": {
        "id": "xeC490nlRJms"
      },
      "source": [
        ""
      ],
      "execution_count": null,
      "outputs": []
    }
  ]
}